{
 "cells": [
  {
   "cell_type": "code",
   "execution_count": 2,
   "id": "48f68468-b828-43b6-bd4c-06f8de3a091c",
   "metadata": {},
   "outputs": [],
   "source": [
    "import nrrd\n",
    "import numpy as np\n",
    "import matplotlib as plt"
   ]
  },
  {
   "cell_type": "code",
   "execution_count": 3,
   "id": "2bf56bdd-5197-42d6-958c-c55b619ea901",
   "metadata": {},
   "outputs": [
    {
     "name": "stdout",
     "output_type": "stream",
     "text": [
      "(528, 320, 456)\n"
     ]
    }
   ],
   "source": [
    "data,header = nrrd.read('annotation_25.nrrd')\n",
    "print(data.shape)"
   ]
  },
  {
   "cell_type": "code",
   "execution_count": null,
   "id": "9bf0499b-832c-4b16-9cf2-2e5a5a8d927f",
   "metadata": {},
   "outputs": [],
   "source": [
    "volume_indexes = data>0\n",
    "# write annotation indexes\n",
    "volume_indexes.astype('uint8').tofile('./compression/volume_indexes.bytes')"
   ]
  },
  {
   "cell_type": "code",
   "execution_count": null,
   "id": "8dbdb238-d282-4b41-a6c2-90176bb3635d",
   "metadata": {},
   "outputs": [],
   "source": [
    "data_flat = data.flatten()\n",
    "data_flat = data_flat[volume_indexes.flatten()]\n",
    "uannotations = np.unique(data_flat)\n",
    "uannotations.astype('uint32').tofile('./compression/annotation_map.bytes')"
   ]
  },
  {
   "cell_type": "code",
   "execution_count": null,
   "id": "08070870-1384-499c-a4c7-43f68749b63c",
   "metadata": {},
   "outputs": [],
   "source": [
    "annotation_indexes = np.zeros(data_flat.shape)\n",
    "for i, uann in enumerate(uannotations):\n",
    "    annotation_indexes[data_flat==uann] = i\n",
    "annotation_indexes.astype('uint16').tofile('./compression/annotation_indexes.bytes')"
   ]
  },
  {
   "cell_type": "code",
   "execution_count": null,
   "id": "da4480b7-bc96-4347-9b00-7845f7876a5e",
   "metadata": {},
   "outputs": [],
   "source": [
    "# Re-load all files!\n",
    "volume_indexes_load = np.fromfile('./compression/volume_indexes.bytes',dtype='uint8')\n",
    "print(np.all(volume_indexes.flatten()==volume_indexes_load))\n",
    "annotation_map_load = np.fromfile('./compression/annotation_map.bytes',dtype='uint32')\n",
    "print(np.all(uannotations==annotation_map_load))\n",
    "annotation_indexes_load = np.fromfile('./compression/annotation_indexes.bytes',dtype='uint16')\n",
    "print(np.all(annotation_indexes==annotation_indexes_load))"
   ]
  },
  {
   "cell_type": "code",
   "execution_count": null,
   "id": "a471fe9c-3f18-49d8-bd16-017d8a3c5aa6",
   "metadata": {},
   "outputs": [],
   "source": [
    "# Reconstruct the annotation volume\n",
    "ai = 0\n",
    "i = 0\n",
    "data_load = np.zeros(data.shape)\n",
    "for ap in np.arange(data.shape[0]):\n",
    "    for dv in np.arange(data.shape[1]):\n",
    "        for lr in np.arange(data.shape[2]):\n",
    "            if volume_indexes_load[i]==1:\n",
    "                data_load[ap,dv,lr] = annotation_map_load[annotation_indexes_load[ai]]\n",
    "                ai+=1\n",
    "            i+=1\n",
    "print(np.all(data==data_load))"
   ]
  },
  {
   "cell_type": "code",
   "execution_count": null,
   "id": "0a47aea2-0f46-4378-82f8-c12ae2edfbdc",
   "metadata": {},
   "outputs": [],
   "source": [
    "# Now build the IBL coverage map\n",
    "from needles2.probe_model import ProbeModel\n",
    "\n",
    "res = 25\n",
    "pr = ProbeModel(res=res)\n",
    "pr.initialise()\n",
    "pr.compute_best_for_provenance(provenance='Histology track')\n",
    "coverage = pr.report_coverage(provenance='Best', dist=354)"
   ]
  },
  {
   "cell_type": "code",
   "execution_count": null,
   "id": "36872fc3-c9a3-46f5-b53d-a61613043b90",
   "metadata": {},
   "outputs": [],
   "source": [
    "coverage = coverage.swapaxes(1,2)\n",
    "print(coverage.shape)"
   ]
  },
  {
   "cell_type": "code",
   "execution_count": null,
   "id": "3f059b7c-4c67-43c2-859a-17d4587cfdc3",
   "metadata": {},
   "outputs": [],
   "source": [
    "volume_indexes = np.fromfile('./compression/volume_indexes.bytes',dtype='uint8')"
   ]
  },
  {
   "cell_type": "code",
   "execution_count": null,
   "id": "1f4a2fde-6c7b-476d-83d2-123d391fa04a",
   "metadata": {},
   "outputs": [],
   "source": [
    "# Go through the flattened file and at each point where data_indexes==1, save whether that was a 0/1/2, we can use the map here this will help let Unity compress the file further\n",
    "coverage_flat = coverage.flatten()\n",
    "coverage_map = [0,1,2]"
   ]
  },
  {
   "cell_type": "code",
   "execution_count": null,
   "id": "ce453523-b47e-46a9-b6f6-6da5de076c87",
   "metadata": {},
   "outputs": [],
   "source": [
    "coverage_indexes = coverage_flat[volume_indexes==1]\n",
    "print(np.sum(coverage_indexes==0))\n",
    "print(np.sum(coverage_indexes==1))\n",
    "print(np.sum(coverage_indexes==2))"
   ]
  },
  {
   "cell_type": "code",
   "execution_count": null,
   "id": "03f6813e-f96e-4fed-815e-6e9550da4a71",
   "metadata": {},
   "outputs": [],
   "source": [
    "coverage_indexes.astype('uint8').tofile('coverage_indexes.bytes')"
   ]
  },
  {
   "cell_type": "code",
   "execution_count": null,
   "id": "de1a37ba-6782-4a65-a1a9-a020d36fa3cc",
   "metadata": {},
   "outputs": [],
   "source": [
    "volume_indexes_load = np.fromfile('./compression/volume_indexes.bytes',dtype='uint8')\n",
    "coverage_indexes_load = np.fromfile('coverage_indexes.bytes',dtype='uint8')"
   ]
  },
  {
   "cell_type": "code",
   "execution_count": null,
   "id": "7cdcd752-dc3a-40fc-bf77-da6468702ed9",
   "metadata": {},
   "outputs": [],
   "source": [
    "# Reconstruct the coverage volume\n",
    "ai = 0\n",
    "i = 0\n",
    "cov_load = np.zeros(data.shape)\n",
    "for ap in np.arange(data.shape[0]):\n",
    "    for dv in np.arange(data.shape[1]):\n",
    "        for lr in np.arange(data.shape[2]):\n",
    "            if volume_indexes_load[i]==1:\n",
    "                cov_load[ap,dv,lr] = coverage_indexes_load[ai]\n",
    "                ai+=1\n",
    "            else:\n",
    "                cov_load[ap,dv,lr] = np.nan\n",
    "            i+=1"
   ]
  },
  {
   "cell_type": "code",
   "execution_count": null,
   "id": "06b3605e-e42b-4ac6-a62e-0ef52d18691a",
   "metadata": {},
   "outputs": [],
   "source": [
    "print(np.all(coverage==cov_load))"
   ]
  },
  {
   "cell_type": "code",
   "execution_count": null,
   "id": "5dcf3c42-26bf-4472-8176-0a29741e6d5c",
   "metadata": {},
   "outputs": [],
   "source": [
    "plt.imshow(cov_load[100,:,:])\n",
    "plt.imshow(coverage[100,:,:])"
   ]
  }
 ],
 "metadata": {
  "kernelspec": {
   "display_name": "Python 3 (ipykernel)",
   "language": "python",
   "name": "python3"
  },
  "language_info": {
   "codemirror_mode": {
    "name": "ipython",
    "version": 3
   },
   "file_extension": ".py",
   "mimetype": "text/x-python",
   "name": "python",
   "nbconvert_exporter": "python",
   "pygments_lexer": "ipython3",
   "version": "3.9.10"
  }
 },
 "nbformat": 4,
 "nbformat_minor": 5
}
