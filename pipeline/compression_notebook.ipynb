{
 "cells": [
  {
   "cell_type": "code",
   "execution_count": null,
   "id": "48f68468-b828-43b6-bd4c-06f8de3a091c",
   "metadata": {},
   "outputs": [],
   "source": [
    "import nrrd\n",
    "import np\n",
    "import matplotlib as plt"
   ]
  },
  {
   "cell_type": "code",
   "execution_count": null,
   "id": "2bf56bdd-5197-42d6-958c-c55b619ea901",
   "metadata": {},
   "outputs": [],
   "source": [
    "data,header = nrrd.read('annotation_25.nrrd')\n",
    "print(data.shape)"
   ]
  },
  {
   "cell_type": "code",
   "execution_count": null,
   "id": "9bf0499b-832c-4b16-9cf2-2e5a5a8d927f",
   "metadata": {},
   "outputs": [],
   "source": [
    "volume_indexes = data>0\n",
    "# write annotation indexes\n",
    "volume_indexes.astype('uint8').tofile('./compression/volume_indexes.bytes')"
   ]
  },
  {
   "cell_type": "code",
   "execution_count": null,
   "id": "8dbdb238-d282-4b41-a6c2-90176bb3635d",
   "metadata": {},
   "outputs": [],
   "source": [
    "data_flat = data.flatten()\n",
    "data_flat = data_flat[volume_indexes.flatten()]\n",
    "uannotations = np.unique(data_flat)\n",
    "uannotations.astype('uint32').tofile('./compression/annotation_map.bytes')"
   ]
  },
  {
   "cell_type": "code",
   "execution_count": null,
   "id": "08070870-1384-499c-a4c7-43f68749b63c",
   "metadata": {},
   "outputs": [],
   "source": [
    "annotation_indexes = np.zeros(data_flat.shape)\n",
    "for i, uann in enumerate(uannotations):\n",
    "    annotation_indexes[data_flat==uann] = i\n",
    "annotation_indexes.astype('uint16').tofile('./compression/annotation_indexes.bytes')"
   ]
  },
  {
   "cell_type": "code",
   "execution_count": null,
   "id": "da4480b7-bc96-4347-9b00-7845f7876a5e",
   "metadata": {},
   "outputs": [],
   "source": [
    "# Re-load all files!\n",
    "volume_indexes_load = np.fromfile('./compression/volume_indexes.bytes',dtype='uint8')\n",
    "print(np.all(volume_indexes.flatten()==volume_indexes_load))\n",
    "annotation_map_load = np.fromfile('./compression/annotation_map.bytes',dtype='uint32')\n",
    "print(np.all(uannotations==annotation_map_load))\n",
    "annotation_indexes_load = np.fromfile('./compression/annotation_indexes.bytes',dtype='uint16')\n",
    "print(np.all(annotation_indexes==annotation_indexes_load))"
   ]
  },
  {
   "cell_type": "code",
   "execution_count": null,
   "id": "a471fe9c-3f18-49d8-bd16-017d8a3c5aa6",
   "metadata": {},
   "outputs": [],
   "source": [
    "# Reconstruct the annotation volume\n",
    "ai = 0\n",
    "i = 0\n",
    "data_load = np.zeros(data.shape)\n",
    "for ap in np.arange(data.shape[0]):\n",
    "    for dv in np.arange(data.shape[1]):\n",
    "        for lr in np.arange(data.shape[2]):\n",
    "            if volume_indexes_load[i]==1:\n",
    "                data_load[ap,dv,lr] = annotation_map_load[annotation_indexes_load[ai]]\n",
    "                ai+=1\n",
    "            i+=1\n",
    "print(np.all(data==data_load))"
   ]
  }
 ],
 "metadata": {
  "kernelspec": {
   "display_name": "Python 3 (ipykernel)",
   "language": "python",
   "name": "python3"
  },
  "language_info": {
   "codemirror_mode": {
    "name": "ipython",
    "version": 3
   },
   "file_extension": ".py",
   "mimetype": "text/x-python",
   "name": "python",
   "nbconvert_exporter": "python",
   "pygments_lexer": "ipython3",
   "version": "3.9.10"
  }
 },
 "nbformat": 4,
 "nbformat_minor": 5
}
