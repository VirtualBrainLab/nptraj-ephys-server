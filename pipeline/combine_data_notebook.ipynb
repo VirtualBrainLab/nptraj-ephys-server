{
 "cells": [
  {
   "cell_type": "code",
   "execution_count": 1,
   "id": "96d561dd",
   "metadata": {},
   "outputs": [],
   "source": [
    "import os\n",
    "import numpy as np\n",
    "import pandas as pd\n",
    "import matplotlib.pyplot as plt\n",
    "import time"
   ]
  },
  {
   "cell_type": "code",
   "execution_count": 2,
   "id": "05101b91",
   "metadata": {},
   "outputs": [],
   "source": [
    "isi_amp_dir = './isi_amp_data'\n",
    "files = os.listdir(isi_amp_dir)\n"
   ]
  },
  {
   "cell_type": "code",
   "execution_count": 3,
   "id": "81c5467e",
   "metadata": {},
   "outputs": [],
   "source": [
    "data_indexes = np.empty((528, 320, 456))\n",
    "data = {}"
   ]
  },
  {
   "cell_type": "code",
   "execution_count": 4,
   "id": "ed92fbb3",
   "metadata": {},
   "outputs": [],
   "source": [
    "df = pd.read_csv('./isi_amp_data/' + files[0])"
   ]
  },
  {
   "cell_type": "code",
   "execution_count": 5,
   "id": "3b1813a3",
   "metadata": {},
   "outputs": [
    {
     "data": {
      "text/html": [
       "<div>\n",
       "<style scoped>\n",
       "    .dataframe tbody tr th:only-of-type {\n",
       "        vertical-align: middle;\n",
       "    }\n",
       "\n",
       "    .dataframe tbody tr th {\n",
       "        vertical-align: top;\n",
       "    }\n",
       "\n",
       "    .dataframe thead th {\n",
       "        text-align: right;\n",
       "    }\n",
       "</style>\n",
       "<table border=\"1\" class=\"dataframe\">\n",
       "  <thead>\n",
       "    <tr style=\"text-align: right;\">\n",
       "      <th></th>\n",
       "      <th>Unnamed: 0</th>\n",
       "      <th>channel</th>\n",
       "      <th>ml</th>\n",
       "      <th>ap</th>\n",
       "      <th>dv</th>\n",
       "      <th>atlas_id</th>\n",
       "      <th>clu_count</th>\n",
       "      <th>amp_min</th>\n",
       "      <th>amp_max</th>\n",
       "      <th>0.001</th>\n",
       "      <th>0.0027825594022071257</th>\n",
       "      <th>0.007742636826811269</th>\n",
       "      <th>0.021544346900318832</th>\n",
       "      <th>0.05994842503189409</th>\n",
       "      <th>0.1668100537200059</th>\n",
       "      <th>0.46415888336127775</th>\n",
       "      <th>1.2915496650148828</th>\n",
       "      <th>3.593813663804626</th>\n",
       "      <th>10.0</th>\n",
       "    </tr>\n",
       "  </thead>\n",
       "  <tbody>\n",
       "    <tr>\n",
       "      <th>0</th>\n",
       "      <td>1</td>\n",
       "      <td>6.0</td>\n",
       "      <td>5121.0</td>\n",
       "      <td>8650.0</td>\n",
       "      <td>3659.0</td>\n",
       "      <td>128.0</td>\n",
       "      <td>1.0</td>\n",
       "      <td>0.000142</td>\n",
       "      <td>0.000142</td>\n",
       "      <td>0.000000</td>\n",
       "      <td>0.000000</td>\n",
       "      <td>0.000000</td>\n",
       "      <td>0.020408</td>\n",
       "      <td>0.081633</td>\n",
       "      <td>0.153061</td>\n",
       "      <td>0.204082</td>\n",
       "      <td>0.239796</td>\n",
       "      <td>0.209184</td>\n",
       "      <td>0.091837</td>\n",
       "    </tr>\n",
       "    <tr>\n",
       "      <th>1</th>\n",
       "      <td>2</td>\n",
       "      <td>7.0</td>\n",
       "      <td>5121.0</td>\n",
       "      <td>8650.0</td>\n",
       "      <td>3659.0</td>\n",
       "      <td>128.0</td>\n",
       "      <td>1.0</td>\n",
       "      <td>0.000146</td>\n",
       "      <td>0.000146</td>\n",
       "      <td>0.001153</td>\n",
       "      <td>0.001153</td>\n",
       "      <td>0.014418</td>\n",
       "      <td>0.083622</td>\n",
       "      <td>0.211649</td>\n",
       "      <td>0.325260</td>\n",
       "      <td>0.289504</td>\n",
       "      <td>0.071511</td>\n",
       "      <td>0.001730</td>\n",
       "      <td>0.000000</td>\n",
       "    </tr>\n",
       "    <tr>\n",
       "      <th>2</th>\n",
       "      <td>5</td>\n",
       "      <td>22.0</td>\n",
       "      <td>5100.0</td>\n",
       "      <td>8650.0</td>\n",
       "      <td>3496.0</td>\n",
       "      <td>128.0</td>\n",
       "      <td>3.0</td>\n",
       "      <td>0.000127</td>\n",
       "      <td>0.000232</td>\n",
       "      <td>0.000000</td>\n",
       "      <td>0.000000</td>\n",
       "      <td>0.019892</td>\n",
       "      <td>0.050633</td>\n",
       "      <td>0.150090</td>\n",
       "      <td>0.182640</td>\n",
       "      <td>0.247740</td>\n",
       "      <td>0.233273</td>\n",
       "      <td>0.108499</td>\n",
       "      <td>0.007233</td>\n",
       "    </tr>\n",
       "    <tr>\n",
       "      <th>3</th>\n",
       "      <td>6</td>\n",
       "      <td>23.0</td>\n",
       "      <td>5100.0</td>\n",
       "      <td>8650.0</td>\n",
       "      <td>3496.0</td>\n",
       "      <td>128.0</td>\n",
       "      <td>1.0</td>\n",
       "      <td>0.000118</td>\n",
       "      <td>0.000118</td>\n",
       "      <td>0.000970</td>\n",
       "      <td>0.001109</td>\n",
       "      <td>0.022450</td>\n",
       "      <td>0.205377</td>\n",
       "      <td>0.641353</td>\n",
       "      <td>0.112389</td>\n",
       "      <td>0.014412</td>\n",
       "      <td>0.001802</td>\n",
       "      <td>0.000139</td>\n",
       "      <td>0.000000</td>\n",
       "    </tr>\n",
       "    <tr>\n",
       "      <th>4</th>\n",
       "      <td>7</td>\n",
       "      <td>24.0</td>\n",
       "      <td>5094.0</td>\n",
       "      <td>8650.0</td>\n",
       "      <td>3476.0</td>\n",
       "      <td>128.0</td>\n",
       "      <td>2.0</td>\n",
       "      <td>0.000181</td>\n",
       "      <td>0.000182</td>\n",
       "      <td>0.014080</td>\n",
       "      <td>0.061463</td>\n",
       "      <td>0.202520</td>\n",
       "      <td>0.456796</td>\n",
       "      <td>0.211328</td>\n",
       "      <td>0.051884</td>\n",
       "      <td>0.001929</td>\n",
       "      <td>0.000000</td>\n",
       "      <td>0.000000</td>\n",
       "      <td>0.000000</td>\n",
       "    </tr>\n",
       "    <tr>\n",
       "      <th>...</th>\n",
       "      <td>...</td>\n",
       "      <td>...</td>\n",
       "      <td>...</td>\n",
       "      <td>...</td>\n",
       "      <td>...</td>\n",
       "      <td>...</td>\n",
       "      <td>...</td>\n",
       "      <td>...</td>\n",
       "      <td>...</td>\n",
       "      <td>...</td>\n",
       "      <td>...</td>\n",
       "      <td>...</td>\n",
       "      <td>...</td>\n",
       "      <td>...</td>\n",
       "      <td>...</td>\n",
       "      <td>...</td>\n",
       "      <td>...</td>\n",
       "      <td>...</td>\n",
       "      <td>...</td>\n",
       "    </tr>\n",
       "    <tr>\n",
       "      <th>160</th>\n",
       "      <td>178</td>\n",
       "      <td>338.0</td>\n",
       "      <td>4423.0</td>\n",
       "      <td>8406.0</td>\n",
       "      <td>357.0</td>\n",
       "      <td>965.0</td>\n",
       "      <td>3.0</td>\n",
       "      <td>0.000063</td>\n",
       "      <td>0.000079</td>\n",
       "      <td>0.004587</td>\n",
       "      <td>0.011927</td>\n",
       "      <td>0.047706</td>\n",
       "      <td>0.131193</td>\n",
       "      <td>0.176147</td>\n",
       "      <td>0.208257</td>\n",
       "      <td>0.229358</td>\n",
       "      <td>0.160550</td>\n",
       "      <td>0.028440</td>\n",
       "      <td>0.001835</td>\n",
       "    </tr>\n",
       "    <tr>\n",
       "      <th>161</th>\n",
       "      <td>179</td>\n",
       "      <td>339.0</td>\n",
       "      <td>4423.0</td>\n",
       "      <td>8406.0</td>\n",
       "      <td>357.0</td>\n",
       "      <td>965.0</td>\n",
       "      <td>1.0</td>\n",
       "      <td>0.000052</td>\n",
       "      <td>0.000052</td>\n",
       "      <td>0.000000</td>\n",
       "      <td>0.000000</td>\n",
       "      <td>0.000000</td>\n",
       "      <td>0.333333</td>\n",
       "      <td>0.000000</td>\n",
       "      <td>0.333333</td>\n",
       "      <td>0.000000</td>\n",
       "      <td>0.000000</td>\n",
       "      <td>0.333333</td>\n",
       "      <td>0.000000</td>\n",
       "    </tr>\n",
       "    <tr>\n",
       "      <th>162</th>\n",
       "      <td>180</td>\n",
       "      <td>342.0</td>\n",
       "      <td>4411.0</td>\n",
       "      <td>8399.0</td>\n",
       "      <td>319.0</td>\n",
       "      <td>671.0</td>\n",
       "      <td>5.0</td>\n",
       "      <td>0.000044</td>\n",
       "      <td>0.000081</td>\n",
       "      <td>0.010849</td>\n",
       "      <td>0.031908</td>\n",
       "      <td>0.126994</td>\n",
       "      <td>0.259732</td>\n",
       "      <td>0.185067</td>\n",
       "      <td>0.125718</td>\n",
       "      <td>0.146777</td>\n",
       "      <td>0.084876</td>\n",
       "      <td>0.027441</td>\n",
       "      <td>0.000638</td>\n",
       "    </tr>\n",
       "    <tr>\n",
       "      <th>163</th>\n",
       "      <td>181</td>\n",
       "      <td>343.0</td>\n",
       "      <td>4411.0</td>\n",
       "      <td>8399.0</td>\n",
       "      <td>319.0</td>\n",
       "      <td>671.0</td>\n",
       "      <td>2.0</td>\n",
       "      <td>0.000080</td>\n",
       "      <td>0.000086</td>\n",
       "      <td>0.000662</td>\n",
       "      <td>0.001324</td>\n",
       "      <td>0.011251</td>\n",
       "      <td>0.037062</td>\n",
       "      <td>0.183322</td>\n",
       "      <td>0.386499</td>\n",
       "      <td>0.287227</td>\n",
       "      <td>0.085374</td>\n",
       "      <td>0.007280</td>\n",
       "      <td>0.000000</td>\n",
       "    </tr>\n",
       "    <tr>\n",
       "      <th>164</th>\n",
       "      <td>182</td>\n",
       "      <td>347.0</td>\n",
       "      <td>4399.0</td>\n",
       "      <td>8392.0</td>\n",
       "      <td>279.0</td>\n",
       "      <td>671.0</td>\n",
       "      <td>2.0</td>\n",
       "      <td>0.000060</td>\n",
       "      <td>0.000087</td>\n",
       "      <td>0.000000</td>\n",
       "      <td>0.000000</td>\n",
       "      <td>0.008939</td>\n",
       "      <td>0.081645</td>\n",
       "      <td>0.249106</td>\n",
       "      <td>0.294398</td>\n",
       "      <td>0.286651</td>\n",
       "      <td>0.076877</td>\n",
       "      <td>0.002384</td>\n",
       "      <td>0.000000</td>\n",
       "    </tr>\n",
       "  </tbody>\n",
       "</table>\n",
       "<p>165 rows × 19 columns</p>\n",
       "</div>"
      ],
      "text/plain": [
       "     Unnamed: 0  channel      ml      ap      dv  atlas_id  clu_count  \\\n",
       "0             1      6.0  5121.0  8650.0  3659.0     128.0        1.0   \n",
       "1             2      7.0  5121.0  8650.0  3659.0     128.0        1.0   \n",
       "2             5     22.0  5100.0  8650.0  3496.0     128.0        3.0   \n",
       "3             6     23.0  5100.0  8650.0  3496.0     128.0        1.0   \n",
       "4             7     24.0  5094.0  8650.0  3476.0     128.0        2.0   \n",
       "..          ...      ...     ...     ...     ...       ...        ...   \n",
       "160         178    338.0  4423.0  8406.0   357.0     965.0        3.0   \n",
       "161         179    339.0  4423.0  8406.0   357.0     965.0        1.0   \n",
       "162         180    342.0  4411.0  8399.0   319.0     671.0        5.0   \n",
       "163         181    343.0  4411.0  8399.0   319.0     671.0        2.0   \n",
       "164         182    347.0  4399.0  8392.0   279.0     671.0        2.0   \n",
       "\n",
       "      amp_min   amp_max     0.001  0.0027825594022071257  \\\n",
       "0    0.000142  0.000142  0.000000               0.000000   \n",
       "1    0.000146  0.000146  0.001153               0.001153   \n",
       "2    0.000127  0.000232  0.000000               0.000000   \n",
       "3    0.000118  0.000118  0.000970               0.001109   \n",
       "4    0.000181  0.000182  0.014080               0.061463   \n",
       "..        ...       ...       ...                    ...   \n",
       "160  0.000063  0.000079  0.004587               0.011927   \n",
       "161  0.000052  0.000052  0.000000               0.000000   \n",
       "162  0.000044  0.000081  0.010849               0.031908   \n",
       "163  0.000080  0.000086  0.000662               0.001324   \n",
       "164  0.000060  0.000087  0.000000               0.000000   \n",
       "\n",
       "     0.007742636826811269  0.021544346900318832  0.05994842503189409  \\\n",
       "0                0.000000              0.020408             0.081633   \n",
       "1                0.014418              0.083622             0.211649   \n",
       "2                0.019892              0.050633             0.150090   \n",
       "3                0.022450              0.205377             0.641353   \n",
       "4                0.202520              0.456796             0.211328   \n",
       "..                    ...                   ...                  ...   \n",
       "160              0.047706              0.131193             0.176147   \n",
       "161              0.000000              0.333333             0.000000   \n",
       "162              0.126994              0.259732             0.185067   \n",
       "163              0.011251              0.037062             0.183322   \n",
       "164              0.008939              0.081645             0.249106   \n",
       "\n",
       "     0.1668100537200059  0.46415888336127775  1.2915496650148828  \\\n",
       "0              0.153061             0.204082            0.239796   \n",
       "1              0.325260             0.289504            0.071511   \n",
       "2              0.182640             0.247740            0.233273   \n",
       "3              0.112389             0.014412            0.001802   \n",
       "4              0.051884             0.001929            0.000000   \n",
       "..                  ...                  ...                 ...   \n",
       "160            0.208257             0.229358            0.160550   \n",
       "161            0.333333             0.000000            0.000000   \n",
       "162            0.125718             0.146777            0.084876   \n",
       "163            0.386499             0.287227            0.085374   \n",
       "164            0.294398             0.286651            0.076877   \n",
       "\n",
       "     3.593813663804626      10.0  \n",
       "0             0.209184  0.091837  \n",
       "1             0.001730  0.000000  \n",
       "2             0.108499  0.007233  \n",
       "3             0.000139  0.000000  \n",
       "4             0.000000  0.000000  \n",
       "..                 ...       ...  \n",
       "160           0.028440  0.001835  \n",
       "161           0.333333  0.000000  \n",
       "162           0.027441  0.000638  \n",
       "163           0.007280  0.000000  \n",
       "164           0.002384  0.000000  \n",
       "\n",
       "[165 rows x 19 columns]"
      ]
     },
     "execution_count": 5,
     "metadata": {},
     "output_type": "execute_result"
    }
   ],
   "source": [
    "df"
   ]
  },
  {
   "cell_type": "code",
   "execution_count": 6,
   "id": "d25ac5c3",
   "metadata": {},
   "outputs": [],
   "source": [
    "volume_indexes_load = np.fromfile('./compression/volume_indexes.bytes',dtype='uint8')\n",
    "volume_indexes = volume_indexes_load.reshape((528,320,456))"
   ]
  },
  {
   "cell_type": "code",
   "execution_count": 13,
   "id": "ce08ad9b-6e58-457c-a937-0783d092c1ec",
   "metadata": {},
   "outputs": [
    {
     "name": "stdout",
     "output_type": "stream",
     "text": [
      "16270435\n"
     ]
    }
   ],
   "source": [
    "print(np.sum(volume_indexes[:,:,0:229]>0))"
   ]
  },
  {
   "cell_type": "code",
   "execution_count": 7,
   "id": "fe5d6186",
   "metadata": {},
   "outputs": [
    {
     "name": "stdout",
     "output_type": "stream",
     "text": [
      "48800\n",
      "16222035\n",
      "48799\n"
     ]
    }
   ],
   "source": [
    "# we're going to fold all data over onto the same side\n",
    "data_indexes = np.full((528, 320, 229),np.nan)\n",
    "data = {}\n",
    "pos_id = 1\n",
    "data_indexes[volume_indexes[:,:,0:229]==1] = 0\n",
    "\n",
    "for file in files:\n",
    "    df = pd.read_csv('./isi_amp_data/' + file)\n",
    "    df.reset_index()\n",
    "    for i,row in df.iterrows():\n",
    "        area = row['atlas_id']\n",
    "        ml = int(row['ml']/25)\n",
    "        ap = int(row['ap']/25)\n",
    "        dv = int(row['dv']/25)\n",
    "        if ml > 228:\n",
    "            ml = 456-ml\n",
    "        clu_count = row['clu_count']\n",
    "        amp_min = row['amp_min']\n",
    "        amp_max = row['amp_max']\n",
    "        isi_data = row[9:].values\n",
    "        \n",
    "        if data_indexes[ap,dv,ml]==0 or np.isnan(data_indexes[ap, dv, ml]):\n",
    "            data[pos_id] = np.concatenate(([area, clu_count, amp_min, amp_max], isi_data))\n",
    "            data_indexes[ap,dv,ml] = pos_id\n",
    "            pos_id+=1\n",
    "        else:\n",
    "            # the data point already exists\n",
    "            prev = data[data_indexes[ap,dv,ml]]\n",
    "            prev[1] += clu_count\n",
    "            prev[2] = (prev[2]+amp_min)/2\n",
    "            prev[3] = (prev[3]+amp_max)/2\n",
    "            # average all the data\n",
    "            prev[4:] = (prev[4:]+isi_data)/2\n",
    "            data[data_indexes[ap,dv,ml]] = prev\n",
    "        \n",
    "print(pos_id)\n",
    "print(np.sum(data_indexes==0))\n",
    "print(np.sum(data_indexes>0))"
   ]
  },
  {
   "cell_type": "code",
   "execution_count": 10,
   "id": "6c0cde6c-3c02-4b72-9cda-c1a36535a5d3",
   "metadata": {},
   "outputs": [
    {
     "name": "stdout",
     "output_type": "stream",
     "text": [
      "22421006\n"
     ]
    }
   ],
   "source": [
    "print(np.sum(np.isnan(data_indexes)))"
   ]
  },
  {
   "cell_type": "code",
   "execution_count": 191,
   "id": "f35c47a0",
   "metadata": {},
   "outputs": [
    {
     "data": {
      "text/plain": [
       "(528, 320, 229)"
      ]
     },
     "execution_count": 191,
     "metadata": {},
     "output_type": "execute_result"
    }
   ],
   "source": [
    "data_indexes.shape"
   ]
  },
  {
   "cell_type": "code",
   "execution_count": 15,
   "id": "f22a28b6",
   "metadata": {},
   "outputs": [],
   "source": [
    "orig = data_indexes.copy() # for later comparison"
   ]
  },
  {
   "cell_type": "code",
   "execution_count": 16,
   "id": "aa64a5ca",
   "metadata": {},
   "outputs": [],
   "source": [
    "# better algorithm\n",
    "nonzero_indices = np.argwhere(data_indexes>0)\n",
    "values = data_indexes[data_indexes>0]\n",
    "\n",
    "zero_indices = np.argwhere(data_indexes==0)\n",
    "dist = np.full((528,320,229),np.nan)"
   ]
  },
  {
   "cell_type": "code",
   "execution_count": 17,
   "id": "ba7e37ce",
   "metadata": {},
   "outputs": [
    {
     "ename": "KeyboardInterrupt",
     "evalue": "",
     "output_type": "error",
     "traceback": [
      "\u001b[1;31m---------------------------------------------------------------------------\u001b[0m",
      "\u001b[1;31mKeyboardInterrupt\u001b[0m                         Traceback (most recent call last)",
      "Input \u001b[1;32mIn [17]\u001b[0m, in \u001b[0;36m<cell line: 1>\u001b[1;34m()\u001b[0m\n\u001b[0;32m      1\u001b[0m \u001b[38;5;28;01mfor\u001b[39;00m i \u001b[38;5;129;01min\u001b[39;00m np\u001b[38;5;241m.\u001b[39marange(\u001b[38;5;28mlen\u001b[39m(zero_indices)):\n\u001b[0;32m      2\u001b[0m     pos \u001b[38;5;241m=\u001b[39m zero_indices[i]\n\u001b[1;32m----> 3\u001b[0m     distances \u001b[38;5;241m=\u001b[39m np\u001b[38;5;241m.\u001b[39msum(np\u001b[38;5;241m.\u001b[39mpower(\u001b[43mnonzero_indices\u001b[49m\u001b[43m \u001b[49m\u001b[38;5;241;43m-\u001b[39;49m\u001b[43m \u001b[49m\u001b[43mpos\u001b[49m,\u001b[38;5;241m2\u001b[39m),axis\u001b[38;5;241m=\u001b[39m\u001b[38;5;241m1\u001b[39m)\n\u001b[0;32m      4\u001b[0m     data_indexes[pos[\u001b[38;5;241m0\u001b[39m],pos[\u001b[38;5;241m1\u001b[39m],pos[\u001b[38;5;241m2\u001b[39m]] \u001b[38;5;241m=\u001b[39m values[np\u001b[38;5;241m.\u001b[39margmin(distances)]\n\u001b[0;32m      5\u001b[0m     dist[pos[\u001b[38;5;241m0\u001b[39m],pos[\u001b[38;5;241m1\u001b[39m],pos[\u001b[38;5;241m2\u001b[39m]] \u001b[38;5;241m=\u001b[39m np\u001b[38;5;241m.\u001b[39msqrt(np\u001b[38;5;241m.\u001b[39mmin(distances))\n",
      "\u001b[1;31mKeyboardInterrupt\u001b[0m: "
     ]
    }
   ],
   "source": [
    "distances = np.full(nonzero_indices.shape,np.nan)\n",
    "for i in np.arange(len(zero_indices)):\n",
    "    pos = zero_indices[i]\n",
    "    distances = np.sum(np.power(nonzero_indices - pos,2),axis=1)\n",
    "    data_indexes[pos[0],pos[1],pos[2]] = values[np.argmin(distances)]\n",
    "    dist[pos[0],pos[1],pos[2]] = np.sqrt(np.min(distances))"
   ]
  },
  {
   "cell_type": "code",
   "execution_count": 31,
   "id": "efe7f8bb-2fca-441b-b74e-1cb3eecfe58a",
   "metadata": {},
   "outputs": [],
   "source": [
    "distvals = dist[np.invert(np.isnan(dist))]"
   ]
  },
  {
   "cell_type": "code",
   "execution_count": 34,
   "id": "b68c098a-9f4c-47ff-b3dc-b70e6df31e48",
   "metadata": {},
   "outputs": [
    {
     "data": {
      "text/plain": [
       "(array([9.917231e+06, 3.467816e+06, 7.402080e+05, 2.164160e+05,\n",
       "        1.435000e+05, 1.185840e+05, 9.686700e+04, 6.486500e+04,\n",
       "        3.275100e+04, 6.831000e+03]),\n",
       " array([ 1.        , 10.88849338, 20.77698676, 30.66548014, 40.55397352,\n",
       "        50.4424669 , 60.33096028, 70.21945366, 80.10794704, 89.99644042,\n",
       "        99.8849338 ]),\n",
       " <BarContainer object of 10 artists>)"
      ]
     },
     "execution_count": 34,
     "metadata": {},
     "output_type": "execute_result"
    },
    {
     "data": {
      "image/png": "[encoded data removed]",
      "text/plain": [
       "<Figure size 432x288 with 1 Axes>"
      ]
     },
     "metadata": {
      "needs_background": "light"
     },
     "output_type": "display_data"
    }
   ],
   "source": [
    "plt.hist(distvals)"
   ]
  },
  {
   "cell_type": "code",
   "execution_count": 36,
   "id": "381accb2-4cc8-4f6b-99ac-34cc4bf0338b",
   "metadata": {},
   "outputs": [
    {
     "name": "stdout",
     "output_type": "stream",
     "text": [
      "0.8364096783338193\n",
      "0.5161517315454592\n",
      "0.2838187380281713\n"
     ]
    }
   ],
   "source": [
    "print(np.sum(distvals>4)/len(distvals))\n",
    "print(np.sum(distvals>8)/len(distvals))\n",
    "print(np.sum(distvals>12)/len(distvals))"
   ]
  },
  {
   "cell_type": "code",
   "execution_count": 37,
   "id": "d436882c-e8a9-4c1e-ace6-fc71ef9b9685",
   "metadata": {},
   "outputs": [
    {
     "data": {
      "image/png": "[encoded data removed]",
      "text/plain": [
       "<Figure size 432x288 with 2 Axes>"
      ]
     },
     "metadata": {
      "needs_background": "light"
     },
     "output_type": "display_data"
    }
   ],
   "source": [
    "im = plt.imshow(dist[300,:,:])\n",
    "cbar = plt.colorbar(im)"
   ]
  },
  {
   "cell_type": "code",
   "execution_count": 5,
   "id": "c2692eb7",
   "metadata": {},
   "outputs": [
    {
     "data": {
      "text/plain": [
       "<matplotlib.image.AxesImage at 0x19cf070fca0>"
      ]
     },
     "execution_count": 5,
     "metadata": {},
     "output_type": "execute_result"
    },
    {
     "data": {
      "image/png": "[encoded data removed]",
      "text/plain": [
       "<Figure size 432x288 with 1 Axes>"
      ]
     },
     "metadata": {
      "needs_background": "light"
     },
     "output_type": "display_data"
    }
   ],
   "source": [
    "plt.imshow(data_indexes[325,:,:])"
   ]
  },
  {
   "cell_type": "code",
   "execution_count": 199,
   "id": "1e626465",
   "metadata": {},
   "outputs": [],
   "source": [
    "np.save('ea_hemisphere_mapping.npy',data_indexes)"
   ]
  },
  {
   "cell_type": "code",
   "execution_count": 201,
   "id": "bb922400",
   "metadata": {},
   "outputs": [
    {
     "data": {
      "text/plain": [
       "Index(['Unnamed: 0', 'channel', 'ml', 'ap', 'dv', 'atlas_id', 'clu_count',\n",
       "       'amp_min', 'amp_max', '0.001', '0.0027825594022071257',\n",
       "       '0.007742636826811269', '0.021544346900318832', '0.05994842503189409',\n",
       "       '0.1668100537200059', '0.46415888336127775', '1.2915496650148828',\n",
       "       '3.593813663804626', '10.0'],\n",
       "      dtype='object')"
      ]
     },
     "execution_count": 201,
     "metadata": {},
     "output_type": "execute_result"
    }
   ],
   "source": [
    "df.columns"
   ]
  },
  {
   "cell_type": "code",
   "execution_count": 211,
   "id": "9c32d047",
   "metadata": {},
   "outputs": [],
   "source": [
    "a = ['area','clu_count','amp_min','amp_max']"
   ]
  },
  {
   "cell_type": "code",
   "execution_count": 213,
   "id": "fc5e85dd",
   "metadata": {},
   "outputs": [
    {
     "name": "stdout",
     "output_type": "stream",
     "text": [
      "['area', 'clu_count', 'amp_min', 'amp_max', '0.001', '0.0027825594022071257', '0.007742636826811269', '0.021544346900318832', '0.05994842503189409', '0.1668100537200059', '0.46415888336127775', '1.2915496650148828', '3.593813663804626', '10.0']\n"
     ]
    }
   ],
   "source": [
    "a.extend(df.columns[9:])\n",
    "print(a)"
   ]
  },
  {
   "cell_type": "code",
   "execution_count": 227,
   "id": "11163e06",
   "metadata": {},
   "outputs": [],
   "source": [
    "columns = ['index','area','clu_count','amp_min','amp_max','i0','i1','i2','i3','i4','i5','i6','i7','i8','i9']\n",
    "\n",
    "data_array = np.zeros((len(data),len(columns)))\n",
    "for i, idx in enumerate(data.keys()):\n",
    "    data_array[i,0] = idx\n",
    "    data_array[i,1:] = data[idx]\n",
    "\n",
    "final_df = pd.DataFrame(data=data_array,columns=columns)"
   ]
  },
  {
   "cell_type": "code",
   "execution_count": 228,
   "id": "4bf54f9c",
   "metadata": {},
   "outputs": [],
   "source": [
    "final_df.to_csv('ea_hemisphere_data.csv')"
   ]
  },
  {
   "cell_type": "code",
   "execution_count": null,
   "id": "245dfb64",
   "metadata": {},
   "outputs": [],
   "source": []
  },
  {
   "cell_type": "code",
   "execution_count": null,
   "id": "ea854476",
   "metadata": {},
   "outputs": [],
   "source": []
  },
  {
   "cell_type": "code",
   "execution_count": 5,
   "id": "4c5089c9",
   "metadata": {},
   "outputs": [],
   "source": [
    "# Try alternate file formats\n",
    "data_indexes = np.load('ea_hemisphere_mapping.npy')\n",
    "df = pd.read_csv('ea_hemisphere_data.csv')"
   ]
  },
  {
   "cell_type": "code",
   "execution_count": 6,
   "id": "b10dee9d",
   "metadata": {},
   "outputs": [
    {
     "data": {
      "text/plain": [
       "(528, 320, 229)"
      ]
     },
     "execution_count": 6,
     "metadata": {},
     "output_type": "execute_result"
    }
   ],
   "source": [
    "data_indexes.shape"
   ]
  },
  {
   "cell_type": "code",
   "execution_count": 18,
   "id": "7910617b",
   "metadata": {},
   "outputs": [
    {
     "data": {
      "text/plain": [
       "13985"
      ]
     },
     "execution_count": 18,
     "metadata": {},
     "output_type": "execute_result"
    }
   ],
   "source": [
    "np.argwhere(df['index'].values==13986)[0][0]"
   ]
  },
  {
   "cell_type": "code",
   "execution_count": 23,
   "id": "40fbda2c",
   "metadata": {},
   "outputs": [
    {
     "data": {
      "text/plain": [
       "nan"
      ]
     },
     "execution_count": 23,
     "metadata": {},
     "output_type": "execute_result"
    }
   ],
   "source": [
    "data_indexes[100,180,150]"
   ]
  },
  {
   "cell_type": "code",
   "execution_count": 22,
   "id": "88eff769",
   "metadata": {},
   "outputs": [
    {
     "ename": "IndexError",
     "evalue": "index 0 is out of bounds for axis 0 with size 0",
     "output_type": "error",
     "traceback": [
      "\u001b[1;31m---------------------------------------------------------------------------\u001b[0m",
      "\u001b[1;31mIndexError\u001b[0m                                Traceback (most recent call last)",
      "\u001b[1;32m<ipython-input-22-f067aebabc1a>\u001b[0m in \u001b[0;36m<module>\u001b[1;34m\u001b[0m\n\u001b[1;32m----> 1\u001b[1;33m \u001b[0mdf\u001b[0m\u001b[1;33m.\u001b[0m\u001b[0miloc\u001b[0m\u001b[1;33m[\u001b[0m\u001b[0mnp\u001b[0m\u001b[1;33m.\u001b[0m\u001b[0margwhere\u001b[0m\u001b[1;33m(\u001b[0m\u001b[0mdf\u001b[0m\u001b[1;33m[\u001b[0m\u001b[1;34m'index'\u001b[0m\u001b[1;33m]\u001b[0m\u001b[1;33m.\u001b[0m\u001b[0mvalues\u001b[0m\u001b[1;33m==\u001b[0m\u001b[0mdata_indexes\u001b[0m\u001b[1;33m[\u001b[0m\u001b[1;36m100\u001b[0m\u001b[1;33m,\u001b[0m\u001b[1;36m180\u001b[0m\u001b[1;33m,\u001b[0m\u001b[1;36m150\u001b[0m\u001b[1;33m]\u001b[0m\u001b[1;33m)\u001b[0m\u001b[1;33m[\u001b[0m\u001b[1;36m0\u001b[0m\u001b[1;33m]\u001b[0m\u001b[1;33m[\u001b[0m\u001b[1;36m0\u001b[0m\u001b[1;33m]\u001b[0m\u001b[1;33m]\u001b[0m\u001b[1;33m.\u001b[0m\u001b[0mvalues\u001b[0m\u001b[1;33m.\u001b[0m\u001b[0mtolist\u001b[0m\u001b[1;33m(\u001b[0m\u001b[1;33m)\u001b[0m\u001b[1;33m\u001b[0m\u001b[1;33m\u001b[0m\u001b[0m\n\u001b[0m",
      "\u001b[1;31mIndexError\u001b[0m: index 0 is out of bounds for axis 0 with size 0"
     ]
    }
   ],
   "source": [
    "df.iloc[np.argwhere(df['index'].values==data_indexes[100,180,150])[0][0]].values.tolist()"
   ]
  },
  {
   "cell_type": "code",
   "execution_count": 10,
   "id": "010bc5a8",
   "metadata": {},
   "outputs": [
    {
     "data": {
      "text/html": [
       "<div>\n",
       "<style scoped>\n",
       "    .dataframe tbody tr th:only-of-type {\n",
       "        vertical-align: middle;\n",
       "    }\n",
       "\n",
       "    .dataframe tbody tr th {\n",
       "        vertical-align: top;\n",
       "    }\n",
       "\n",
       "    .dataframe thead th {\n",
       "        text-align: right;\n",
       "    }\n",
       "</style>\n",
       "<table border=\"1\" class=\"dataframe\">\n",
       "  <thead>\n",
       "    <tr style=\"text-align: right;\">\n",
       "      <th></th>\n",
       "      <th>row</th>\n",
       "      <th>index</th>\n",
       "      <th>area</th>\n",
       "      <th>clu_count</th>\n",
       "      <th>amp_min</th>\n",
       "      <th>amp_max</th>\n",
       "      <th>i0</th>\n",
       "      <th>i1</th>\n",
       "      <th>i2</th>\n",
       "      <th>i3</th>\n",
       "      <th>i4</th>\n",
       "      <th>i5</th>\n",
       "      <th>i6</th>\n",
       "      <th>i7</th>\n",
       "      <th>i8</th>\n",
       "      <th>i9</th>\n",
       "    </tr>\n",
       "  </thead>\n",
       "  <tbody>\n",
       "    <tr>\n",
       "      <td>0</td>\n",
       "      <td>0</td>\n",
       "      <td>1</td>\n",
       "      <td>128</td>\n",
       "      <td>2</td>\n",
       "      <td>0.000144</td>\n",
       "      <td>0.000144</td>\n",
       "      <td>0.000577</td>\n",
       "      <td>0.000577</td>\n",
       "      <td>0.007209</td>\n",
       "      <td>0.052015</td>\n",
       "      <td>0.146641</td>\n",
       "      <td>0.239160</td>\n",
       "      <td>0.246793</td>\n",
       "      <td>0.155653</td>\n",
       "      <td>0.105457</td>\n",
       "      <td>0.045918</td>\n",
       "    </tr>\n",
       "    <tr>\n",
       "      <td>1</td>\n",
       "      <td>1</td>\n",
       "      <td>2</td>\n",
       "      <td>128</td>\n",
       "      <td>4</td>\n",
       "      <td>0.000123</td>\n",
       "      <td>0.000175</td>\n",
       "      <td>0.000485</td>\n",
       "      <td>0.000554</td>\n",
       "      <td>0.021171</td>\n",
       "      <td>0.128005</td>\n",
       "      <td>0.395721</td>\n",
       "      <td>0.147515</td>\n",
       "      <td>0.131076</td>\n",
       "      <td>0.117537</td>\n",
       "      <td>0.054319</td>\n",
       "      <td>0.003617</td>\n",
       "    </tr>\n",
       "    <tr>\n",
       "      <td>2</td>\n",
       "      <td>2</td>\n",
       "      <td>3</td>\n",
       "      <td>128</td>\n",
       "      <td>2</td>\n",
       "      <td>0.000181</td>\n",
       "      <td>0.000182</td>\n",
       "      <td>0.014080</td>\n",
       "      <td>0.061463</td>\n",
       "      <td>0.202520</td>\n",
       "      <td>0.456796</td>\n",
       "      <td>0.211328</td>\n",
       "      <td>0.051884</td>\n",
       "      <td>0.001929</td>\n",
       "      <td>0.000000</td>\n",
       "      <td>0.000000</td>\n",
       "      <td>0.000000</td>\n",
       "    </tr>\n",
       "    <tr>\n",
       "      <td>3</td>\n",
       "      <td>3</td>\n",
       "      <td>4</td>\n",
       "      <td>128</td>\n",
       "      <td>2</td>\n",
       "      <td>0.000131</td>\n",
       "      <td>0.000184</td>\n",
       "      <td>0.000000</td>\n",
       "      <td>0.010152</td>\n",
       "      <td>0.030457</td>\n",
       "      <td>0.086294</td>\n",
       "      <td>0.182741</td>\n",
       "      <td>0.213198</td>\n",
       "      <td>0.147208</td>\n",
       "      <td>0.131980</td>\n",
       "      <td>0.126904</td>\n",
       "      <td>0.071066</td>\n",
       "    </tr>\n",
       "    <tr>\n",
       "      <td>4</td>\n",
       "      <td>4</td>\n",
       "      <td>5</td>\n",
       "      <td>128</td>\n",
       "      <td>4</td>\n",
       "      <td>0.000159</td>\n",
       "      <td>0.000216</td>\n",
       "      <td>0.000083</td>\n",
       "      <td>0.013558</td>\n",
       "      <td>0.064856</td>\n",
       "      <td>0.224330</td>\n",
       "      <td>0.235656</td>\n",
       "      <td>0.271081</td>\n",
       "      <td>0.106895</td>\n",
       "      <td>0.041873</td>\n",
       "      <td>0.020833</td>\n",
       "      <td>0.020833</td>\n",
       "    </tr>\n",
       "    <tr>\n",
       "      <td>...</td>\n",
       "      <td>...</td>\n",
       "      <td>...</td>\n",
       "      <td>...</td>\n",
       "      <td>...</td>\n",
       "      <td>...</td>\n",
       "      <td>...</td>\n",
       "      <td>...</td>\n",
       "      <td>...</td>\n",
       "      <td>...</td>\n",
       "      <td>...</td>\n",
       "      <td>...</td>\n",
       "      <td>...</td>\n",
       "      <td>...</td>\n",
       "      <td>...</td>\n",
       "      <td>...</td>\n",
       "      <td>...</td>\n",
       "    </tr>\n",
       "    <tr>\n",
       "      <td>48794</td>\n",
       "      <td>48794</td>\n",
       "      <td>48795</td>\n",
       "      <td>1033</td>\n",
       "      <td>3</td>\n",
       "      <td>0.000138</td>\n",
       "      <td>0.000154</td>\n",
       "      <td>0.002793</td>\n",
       "      <td>0.010109</td>\n",
       "      <td>0.074016</td>\n",
       "      <td>0.171790</td>\n",
       "      <td>0.204184</td>\n",
       "      <td>0.182668</td>\n",
       "      <td>0.165182</td>\n",
       "      <td>0.106349</td>\n",
       "      <td>0.040518</td>\n",
       "      <td>0.042390</td>\n",
       "    </tr>\n",
       "    <tr>\n",
       "      <td>48795</td>\n",
       "      <td>48795</td>\n",
       "      <td>48796</td>\n",
       "      <td>1033</td>\n",
       "      <td>4</td>\n",
       "      <td>0.000170</td>\n",
       "      <td>0.000170</td>\n",
       "      <td>0.001376</td>\n",
       "      <td>0.066407</td>\n",
       "      <td>0.205558</td>\n",
       "      <td>0.199437</td>\n",
       "      <td>0.168769</td>\n",
       "      <td>0.157355</td>\n",
       "      <td>0.091055</td>\n",
       "      <td>0.051048</td>\n",
       "      <td>0.030702</td>\n",
       "      <td>0.028293</td>\n",
       "    </tr>\n",
       "    <tr>\n",
       "      <td>48796</td>\n",
       "      <td>48796</td>\n",
       "      <td>48797</td>\n",
       "      <td>1033</td>\n",
       "      <td>1</td>\n",
       "      <td>0.000194</td>\n",
       "      <td>0.000194</td>\n",
       "      <td>0.014170</td>\n",
       "      <td>0.103239</td>\n",
       "      <td>0.143725</td>\n",
       "      <td>0.165992</td>\n",
       "      <td>0.184211</td>\n",
       "      <td>0.176113</td>\n",
       "      <td>0.117409</td>\n",
       "      <td>0.048583</td>\n",
       "      <td>0.016194</td>\n",
       "      <td>0.030364</td>\n",
       "    </tr>\n",
       "    <tr>\n",
       "      <td>48797</td>\n",
       "      <td>48797</td>\n",
       "      <td>48798</td>\n",
       "      <td>1033</td>\n",
       "      <td>1</td>\n",
       "      <td>0.000094</td>\n",
       "      <td>0.000094</td>\n",
       "      <td>0.002239</td>\n",
       "      <td>0.009963</td>\n",
       "      <td>0.195231</td>\n",
       "      <td>0.329788</td>\n",
       "      <td>0.290160</td>\n",
       "      <td>0.115079</td>\n",
       "      <td>0.039628</td>\n",
       "      <td>0.011642</td>\n",
       "      <td>0.004590</td>\n",
       "      <td>0.001679</td>\n",
       "    </tr>\n",
       "    <tr>\n",
       "      <td>48798</td>\n",
       "      <td>48798</td>\n",
       "      <td>48799</td>\n",
       "      <td>1033</td>\n",
       "      <td>5</td>\n",
       "      <td>0.000158</td>\n",
       "      <td>0.000171</td>\n",
       "      <td>0.000000</td>\n",
       "      <td>0.020725</td>\n",
       "      <td>0.091106</td>\n",
       "      <td>0.154306</td>\n",
       "      <td>0.141962</td>\n",
       "      <td>0.133005</td>\n",
       "      <td>0.148574</td>\n",
       "      <td>0.108666</td>\n",
       "      <td>0.093790</td>\n",
       "      <td>0.107867</td>\n",
       "    </tr>\n",
       "  </tbody>\n",
       "</table>\n",
       "<p>48799 rows × 16 columns</p>\n",
       "</div>"
      ],
      "text/plain": [
       "         row  index  area  clu_count   amp_min   amp_max        i0        i1  \\\n",
       "0          0      1   128          2  0.000144  0.000144  0.000577  0.000577   \n",
       "1          1      2   128          4  0.000123  0.000175  0.000485  0.000554   \n",
       "2          2      3   128          2  0.000181  0.000182  0.014080  0.061463   \n",
       "3          3      4   128          2  0.000131  0.000184  0.000000  0.010152   \n",
       "4          4      5   128          4  0.000159  0.000216  0.000083  0.013558   \n",
       "...      ...    ...   ...        ...       ...       ...       ...       ...   \n",
       "48794  48794  48795  1033          3  0.000138  0.000154  0.002793  0.010109   \n",
       "48795  48795  48796  1033          4  0.000170  0.000170  0.001376  0.066407   \n",
       "48796  48796  48797  1033          1  0.000194  0.000194  0.014170  0.103239   \n",
       "48797  48797  48798  1033          1  0.000094  0.000094  0.002239  0.009963   \n",
       "48798  48798  48799  1033          5  0.000158  0.000171  0.000000  0.020725   \n",
       "\n",
       "             i2        i3        i4        i5        i6        i7        i8  \\\n",
       "0      0.007209  0.052015  0.146641  0.239160  0.246793  0.155653  0.105457   \n",
       "1      0.021171  0.128005  0.395721  0.147515  0.131076  0.117537  0.054319   \n",
       "2      0.202520  0.456796  0.211328  0.051884  0.001929  0.000000  0.000000   \n",
       "3      0.030457  0.086294  0.182741  0.213198  0.147208  0.131980  0.126904   \n",
       "4      0.064856  0.224330  0.235656  0.271081  0.106895  0.041873  0.020833   \n",
       "...         ...       ...       ...       ...       ...       ...       ...   \n",
       "48794  0.074016  0.171790  0.204184  0.182668  0.165182  0.106349  0.040518   \n",
       "48795  0.205558  0.199437  0.168769  0.157355  0.091055  0.051048  0.030702   \n",
       "48796  0.143725  0.165992  0.184211  0.176113  0.117409  0.048583  0.016194   \n",
       "48797  0.195231  0.329788  0.290160  0.115079  0.039628  0.011642  0.004590   \n",
       "48798  0.091106  0.154306  0.141962  0.133005  0.148574  0.108666  0.093790   \n",
       "\n",
       "             i9  \n",
       "0      0.045918  \n",
       "1      0.003617  \n",
       "2      0.000000  \n",
       "3      0.071066  \n",
       "4      0.020833  \n",
       "...         ...  \n",
       "48794  0.042390  \n",
       "48795  0.028293  \n",
       "48796  0.030364  \n",
       "48797  0.001679  \n",
       "48798  0.107867  \n",
       "\n",
       "[48799 rows x 16 columns]"
      ]
     },
     "execution_count": 10,
     "metadata": {},
     "output_type": "execute_result"
    }
   ],
   "source": [
    "df"
   ]
  },
  {
   "cell_type": "code",
   "execution_count": null,
   "id": "0f5df211",
   "metadata": {},
   "outputs": [],
   "source": []
  }
 ],
 "metadata": {
  "kernelspec": {
   "display_name": "Python 3 (ipykernel)",
   "language": "python",
   "name": "python3"
  },
  "language_info": {
   "codemirror_mode": {
    "name": "ipython",
    "version": 3
   },
   "file_extension": ".py",
   "mimetype": "text/x-python",
   "name": "python",
   "nbconvert_exporter": "python",
   "pygments_lexer": "ipython3",
   "version": "3.9.10"
  }
 },
 "nbformat": 4,
 "nbformat_minor": 5
}
