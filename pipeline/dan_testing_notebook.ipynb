{
 "cells": [
  {
   "cell_type": "code",
   "execution_count": 1,
   "id": "7e1f1242-622b-44eb-acd3-a830e87e4da6",
   "metadata": {},
   "outputs": [
    {
     "name": "stderr",
     "output_type": "stream",
     "text": [
      "C:\\Users\\Dan\\.conda\\envs\\iblenv\\lib\\site-packages\\one\\api.py:1294: UserWarning: Newer cache tables require ONE version 1.10.0 or greater\n",
      "  warnings.warn(f'Newer cache tables require ONE version {min_version} or greater')\n"
     ]
    }
   ],
   "source": [
    "import os\n",
    "import copy\n",
    "import csv\n",
    "import numpy as np\n",
    "import pandas as pd\n",
    "import brainbox.io.one as bbone\n",
    "import ibllib.atlas as atlas\n",
    "import pickle\n",
    "from one.api import ONE\n",
    "one = ONE(base_url='https://alyx.internationalbrainlab.org')"
   ]
  },
  {
   "cell_type": "code",
   "execution_count": 2,
   "id": "a67e21f6-204a-4522-b390-9a717dc4b364",
   "metadata": {},
   "outputs": [],
   "source": [
    "def get_bwm_sessions():\n",
    "\n",
    "    '''\n",
    "    Gaelle, 06.04.2022\n",
    "    '''\n",
    "\n",
    "    str_query = (  \n",
    "       'session__project__name__icontains,ibl_neuropixel_brainwide_01,'\n",
    "       'session__json__IS_MOCK,False,session__qc__lt'\n",
    "       ',50,~json__qc,CRITICAL,'\n",
    "       'session__extended_qc__behavior,1,'\n",
    "       'json__extended_qc__tracing_exists,True,'\n",
    "       '~session__extended_qc___task_stimOn_goCue_delays__lt,0.9,'\n",
    "       '~session__extended_qc___task_response_feedback_delays__lt,0.9,'\n",
    "       '~session__extended_qc___task_wheel_move_before_feedback__lt,0.9,'\n",
    "       '~session__extended_qc___task_wheel_freeze_during_quiescence__lt,0.9,'\n",
    "       '~session__extended_qc___task_error_trial_event_sequence__lt,0.9,'\n",
    "       '~session__extended_qc___task_correct_trial_event_sequence__lt,0.9,'\n",
    "       '~session__extended_qc___task_reward_volumes__lt,0.9,'\n",
    "       '~session__extended_qc___task_reward_volume_set__lt,0.9,'\n",
    "       '~session__extended_qc___task_stimulus_move_before_goCue__lt,0.9,'\n",
    "       '~session__extended_qc___task_audio_pre_trial__lt,0.9')                  \n",
    "        \n",
    "    str_query2 = (\n",
    "       'session__project__name__icontains,ibl_neuropixel_brainwide_01,'\n",
    "       'session__json__IS_MOCK,False,session__qc__lt,50,'\n",
    "       '~json__qc,CRITICAL,session__extended_qc__behavior,1,'       \n",
    "       'json__extended_qc__tracing_exists,True,'\n",
    "       'session__extended_qc___experimenter_task,PASS')        \n",
    "            \n",
    "    ins = np.concatenate([one.alyx.rest('insertions', 'list', django = x)\n",
    "                          for x in [str_query, str_query2]])\n",
    "\n",
    "    eid_probe = set([x['session']+'_'+x['name'] for x in ins]) # pid via x['id']\n",
    "    ins = [x.split('_') for x in eid_probe] \n",
    " \n",
    "    return ins"
   ]
  },
  {
   "cell_type": "code",
   "execution_count": 4,
   "id": "7c30a4d0-4cab-43d8-bba8-e7ffcffcbcc3",
   "metadata": {},
   "outputs": [],
   "source": [
    "ins = get_bwm_sessions()"
   ]
  },
  {
   "cell_type": "code",
   "execution_count": 8,
   "id": "d8cc37c1-0c01-477a-9445-0a853d72e8da",
   "metadata": {},
   "outputs": [],
   "source": [
    "with open(\"bwm_eid.pkl\",'wb') as f:\n",
    "    pickle.dump(ins, f)"
   ]
  },
  {
   "cell_type": "code",
   "execution_count": 12,
   "id": "c7236157-a018-4e8e-b124-592e3e03d16a",
   "metadata": {},
   "outputs": [],
   "source": [
    "from brainbox.io.one import SpikeSortingLoader\n"
   ]
  },
  {
   "cell_type": "code",
   "execution_count": null,
   "id": "1f01115a-ae0a-4515-b648-13363b89b3e5",
   "metadata": {},
   "outputs": [],
   "source": [
    "eids = np.load(\"data/brainwide_map_eids_ephys_histology.npy\")\n"
   ]
  },
  {
   "cell_type": "code",
   "execution_count": null,
   "id": "34d5f2b1-22bb-462a-91ba-35e98889982b",
   "metadata": {},
   "outputs": [],
   "source": [
    "# Load the UUID index file\n",
    "with open(UUID_TO_INDEX_PATH, 'rb') as uuid_file:\n",
    "  uuids = pickle.load(uuid_file)"
   ]
  },
  {
   "cell_type": "code",
   "execution_count": null,
   "id": "2e9ad586-54d8-426e-92dd-9566e9f11e25",
   "metadata": {},
   "outputs": [],
   "source": [
    "sess_info = one.alyx.rest(\"sessions\",\"list\")\n",
    "eid2lab = {}\n",
    "for sess in sess_info:\n",
    "    eid = one.to_eid(sess['url'])\n",
    "    eid2lab[eid] = sess['lab']"
   ]
  },
  {
   "cell_type": "code",
   "execution_count": 16,
   "id": "6499136b-4aa3-482f-8ff5-4855b2aa0078",
   "metadata": {},
   "outputs": [
    {
     "ename": "TypeError",
     "evalue": "'int' object is not subscriptable",
     "output_type": "error",
     "traceback": [
      "\u001b[1;31m---------------------------------------------------------------------------\u001b[0m",
      "\u001b[1;31mTypeError\u001b[0m                                 Traceback (most recent call last)",
      "Input \u001b[1;32mIn [16]\u001b[0m, in \u001b[0;36m<cell line: 2>\u001b[1;34m()\u001b[0m\n\u001b[0;32m      3\u001b[0m writer \u001b[38;5;241m=\u001b[39m csv\u001b[38;5;241m.\u001b[39mwriter(csvfile)\n\u001b[0;32m      4\u001b[0m \u001b[38;5;28;01mfor\u001b[39;00m uuid, data \u001b[38;5;129;01min\u001b[39;00m uuids\u001b[38;5;241m.\u001b[39mitems():\n\u001b[1;32m----> 5\u001b[0m   eid \u001b[38;5;241m=\u001b[39m \u001b[43mdata\u001b[49m\u001b[43m[\u001b[49m\u001b[38;5;124;43m'\u001b[39;49m\u001b[38;5;124;43meid\u001b[39;49m\u001b[38;5;124;43m'\u001b[39;49m\u001b[43m]\u001b[49m\n\u001b[0;32m      6\u001b[0m   writer\u001b[38;5;241m.\u001b[39mwriterow([uuid, eid2lab[eid]])\n",
      "\u001b[1;31mTypeError\u001b[0m: 'int' object is not subscriptable"
     ]
    }
   ],
   "source": [
    "# build a CSV file which tracks the UUID and lab that each cluster came from\n",
    "with open('data/metadata.csv','w', newline='') as csvfile:\n",
    "  writer = csv.writer(csvfile)\n",
    "  for uuid, index in uuids.items():\n",
    "    eid = data['eid']\n",
    "    writer.writerow([uuid, eid2lab[eid]])"
   ]
  },
  {
   "cell_type": "code",
   "execution_count": 13,
   "id": "bf423c6a-3f2f-4178-ac7e-fd487c31b8bb",
   "metadata": {},
   "outputs": [],
   "source": [
    "from matplotlib import cm\n",
    "import matplotlib.pyplot as plt\n",
    "plt.rcParams['figure.figsize'] = [20, 10]\n",
    "import time"
   ]
  },
  {
   "cell_type": "code",
   "execution_count": 17,
   "id": "20346d7d-9878-4a5a-8d40-5e3c99e64cf9",
   "metadata": {},
   "outputs": [],
   "source": [
    "# Load all of the ISI_AMP csv files and populate a big matrix with the cluster count data\n",
    "# then plot slices of this to look at the cluster count\n",
    "isi_amp_dir = 'C:\\\\proj\\VBL\\\\nptraj-ephys-server\\\\pipeline\\\\isi_amp_data\\\\'\n",
    "\n",
    "files = os.listdir(isi_amp_dir)\n",
    "\n",
    "# 528*320*456  ap/dv/lr\n",
    "cluCount = np.zeros((456,528,320))\n",
    "\n",
    "for file in files:\n",
    "    df = pd.read_csv(isi_amp_dir + file)\n",
    "    df.reset_index()\n",
    "    for i,row in df.iterrows():\n",
    "        cluCount[int(row['ml']/40),int(row['ap']/40),int(row['dv']/40)] = row['clu_count']"
   ]
  },
  {
   "cell_type": "code",
   "execution_count": 209,
   "id": "e876ca2f-0bba-4ef7-afca-e4349a589ca1",
   "metadata": {},
   "outputs": [
    {
     "ename": "AttributeError",
     "evalue": "'numpy.float64' object has no attribute 'values'",
     "output_type": "error",
     "traceback": [
      "\u001b[1;31m---------------------------------------------------------------------------\u001b[0m",
      "\u001b[1;31mAttributeError\u001b[0m                            Traceback (most recent call last)",
      "Input \u001b[1;32mIn [209]\u001b[0m, in \u001b[0;36m<module>\u001b[1;34m\u001b[0m\n\u001b[0;32m     15\u001b[0m df\u001b[38;5;241m.\u001b[39mreset_index()\n\u001b[0;32m     16\u001b[0m \u001b[38;5;28;01mfor\u001b[39;00m i,row \u001b[38;5;129;01min\u001b[39;00m df\u001b[38;5;241m.\u001b[39miterrows():\n\u001b[1;32m---> 17\u001b[0m     area \u001b[38;5;241m=\u001b[39m \u001b[43mrow\u001b[49m\u001b[43m[\u001b[49m\u001b[38;5;124;43m'\u001b[39;49m\u001b[38;5;124;43matlas_id\u001b[39;49m\u001b[38;5;124;43m'\u001b[39;49m\u001b[43m]\u001b[49m\u001b[38;5;241;43m.\u001b[39;49m\u001b[43mvalues\u001b[49m\n\u001b[0;32m     18\u001b[0m     data \u001b[38;5;241m=\u001b[39m row[\u001b[38;5;241m9\u001b[39m:]\u001b[38;5;241m.\u001b[39mvalues\n\u001b[0;32m     19\u001b[0m     areaData\u001b[38;5;241m.\u001b[39mloc[i] \u001b[38;5;241m=\u001b[39m [area, data]\n",
      "\u001b[1;31mAttributeError\u001b[0m: 'numpy.float64' object has no attribute 'values'"
     ]
    }
   ],
   "source": [
    "# New plan:\n",
    "# Load each ISI_AMP file and save each leaf node area separately as a CSV\n",
    "# Average the ISI distribution for that area (or do PCA on it?)\n",
    "\n",
    "isi_amp_dir = 'C:\\proj\\IBL\\cluster_pipelines\\data\\isi_amp_data'\n",
    "files = os.listdir(isi_amp_dir)\n",
    "\n",
    "df = pd.read_csv('C:\\proj\\IBL\\cluster_pipelines\\data\\isi_amp_data\\\\' + files[0])\n",
    "# dictionary containing area data\n",
    "areaData = pd.DataFrame(columns=['area',df.columns[9:].values])\n",
    "i = 0\n",
    "\n",
    "for file in files:\n",
    "    df = pd.read_csv('C:\\proj\\IBL\\cluster_pipelines\\data\\isi_amp_data\\\\' + file)\n",
    "    df.reset_index()\n",
    "    for i,row in df.iterrows():\n",
    "        area = row['atlas_id']\n",
    "        data = row[9:].values\n",
    "        areaData.loc[i] = [area, data]\n",
    "        i += 1"
   ]
  },
  {
   "cell_type": "code",
   "execution_count": 203,
   "id": "69fa3b3f-8f55-43fe-af81-483850e61ac0",
   "metadata": {},
   "outputs": [],
   "source": [
    "for area in areaDict.keys():\n",
    "    areaData = areaDict[area]\n",
    "    areaMean = np.average(areaData,axis=0)\n",
    "    #np.savetxt('C:\\proj\\IBL\\cluster_pipelines\\data\\isi_amp_areas\\\\' + str(area) + '.csv',areaData,delimiter=',')"
   ]
  },
  {
   "cell_type": "code",
   "execution_count": 216,
   "id": "3b3aa801-551f-4474-a44b-e50ac4d42c85",
   "metadata": {},
   "outputs": [
    {
     "data": {
      "text/plain": [
       "array([0.02462212, 0.04363561, 0.10895899, 0.15841355, 0.15662258,\n",
       "       0.15228122, 0.12637609, 0.10094896, 0.0703425 , 0.05779838])"
      ]
     },
     "execution_count": 216,
     "metadata": {},
     "output_type": "execute_result"
    }
   ],
   "source": [
    "np.average(areaDict[0],axis=0)"
   ]
  },
  {
   "cell_type": "code",
   "execution_count": 213,
   "id": "44fac4ac-e97f-4b6a-879b-2725d57a6623",
   "metadata": {},
   "outputs": [
    {
     "name": "stderr",
     "output_type": "stream",
     "text": [
      "C:\\Users\\Dan\\.conda\\envs\\iblenv\\lib\\site-packages\\numpy\\lib\\function_base.py:495: RuntimeWarning: Mean of empty slice.\n",
      "  avg = a.mean(axis)\n"
     ]
    },
    {
     "ename": "ZeroDivisionError",
     "evalue": "division by zero",
     "output_type": "error",
     "traceback": [
      "\u001b[1;31m---------------------------------------------------------------------------\u001b[0m",
      "\u001b[1;31mZeroDivisionError\u001b[0m                         Traceback (most recent call last)",
      "Input \u001b[1;32mIn [213]\u001b[0m, in \u001b[0;36m<module>\u001b[1;34m\u001b[0m\n\u001b[1;32m----> 1\u001b[0m areaMean \u001b[38;5;241m=\u001b[39m \u001b[43mnp\u001b[49m\u001b[38;5;241;43m.\u001b[39;49m\u001b[43maverage\u001b[49m\u001b[43m(\u001b[49m\u001b[43mareaData\u001b[49m\u001b[43m,\u001b[49m\u001b[43maxis\u001b[49m\u001b[38;5;241;43m=\u001b[39;49m\u001b[38;5;241;43m0\u001b[39;49m\u001b[43m)\u001b[49m\n",
      "File \u001b[1;32m<__array_function__ internals>:180\u001b[0m, in \u001b[0;36maverage\u001b[1;34m(*args, **kwargs)\u001b[0m\n",
      "File \u001b[1;32m~\\.conda\\envs\\iblenv\\lib\\site-packages\\numpy\\lib\\function_base.py:495\u001b[0m, in \u001b[0;36maverage\u001b[1;34m(a, axis, weights, returned)\u001b[0m\n\u001b[0;32m    492\u001b[0m a \u001b[38;5;241m=\u001b[39m np\u001b[38;5;241m.\u001b[39masanyarray(a)\n\u001b[0;32m    494\u001b[0m \u001b[38;5;28;01mif\u001b[39;00m weights \u001b[38;5;129;01mis\u001b[39;00m \u001b[38;5;28;01mNone\u001b[39;00m:\n\u001b[1;32m--> 495\u001b[0m     avg \u001b[38;5;241m=\u001b[39m \u001b[43ma\u001b[49m\u001b[38;5;241;43m.\u001b[39;49m\u001b[43mmean\u001b[49m\u001b[43m(\u001b[49m\u001b[43maxis\u001b[49m\u001b[43m)\u001b[49m\n\u001b[0;32m    496\u001b[0m     scl \u001b[38;5;241m=\u001b[39m avg\u001b[38;5;241m.\u001b[39mdtype\u001b[38;5;241m.\u001b[39mtype(a\u001b[38;5;241m.\u001b[39msize\u001b[38;5;241m/\u001b[39mavg\u001b[38;5;241m.\u001b[39msize)\n\u001b[0;32m    497\u001b[0m \u001b[38;5;28;01melse\u001b[39;00m:\n",
      "File \u001b[1;32m~\\.conda\\envs\\iblenv\\lib\\site-packages\\numpy\\core\\_methods.py:181\u001b[0m, in \u001b[0;36m_mean\u001b[1;34m(a, axis, dtype, out, keepdims, where)\u001b[0m\n\u001b[0;32m    179\u001b[0m ret \u001b[38;5;241m=\u001b[39m umr_sum(arr, axis, dtype, out, keepdims, where\u001b[38;5;241m=\u001b[39mwhere)\n\u001b[0;32m    180\u001b[0m \u001b[38;5;28;01mif\u001b[39;00m \u001b[38;5;28misinstance\u001b[39m(ret, mu\u001b[38;5;241m.\u001b[39mndarray):\n\u001b[1;32m--> 181\u001b[0m     ret \u001b[38;5;241m=\u001b[39m \u001b[43mum\u001b[49m\u001b[38;5;241;43m.\u001b[39;49m\u001b[43mtrue_divide\u001b[49m\u001b[43m(\u001b[49m\n\u001b[0;32m    182\u001b[0m \u001b[43m            \u001b[49m\u001b[43mret\u001b[49m\u001b[43m,\u001b[49m\u001b[43m \u001b[49m\u001b[43mrcount\u001b[49m\u001b[43m,\u001b[49m\u001b[43m \u001b[49m\u001b[43mout\u001b[49m\u001b[38;5;241;43m=\u001b[39;49m\u001b[43mret\u001b[49m\u001b[43m,\u001b[49m\u001b[43m \u001b[49m\u001b[43mcasting\u001b[49m\u001b[38;5;241;43m=\u001b[39;49m\u001b[38;5;124;43m'\u001b[39;49m\u001b[38;5;124;43munsafe\u001b[39;49m\u001b[38;5;124;43m'\u001b[39;49m\u001b[43m,\u001b[49m\u001b[43m \u001b[49m\u001b[43msubok\u001b[49m\u001b[38;5;241;43m=\u001b[39;49m\u001b[38;5;28;43;01mFalse\u001b[39;49;00m\u001b[43m)\u001b[49m\n\u001b[0;32m    183\u001b[0m     \u001b[38;5;28;01mif\u001b[39;00m is_float16_result \u001b[38;5;129;01mand\u001b[39;00m out \u001b[38;5;129;01mis\u001b[39;00m \u001b[38;5;28;01mNone\u001b[39;00m:\n\u001b[0;32m    184\u001b[0m         ret \u001b[38;5;241m=\u001b[39m arr\u001b[38;5;241m.\u001b[39mdtype\u001b[38;5;241m.\u001b[39mtype(ret)\n",
      "\u001b[1;31mZeroDivisionError\u001b[0m: division by zero"
     ]
    }
   ],
   "source": [
    "areaMean = np.average(areaData,axis=0)\n"
   ]
  },
  {
   "cell_type": "code",
   "execution_count": 210,
   "id": "ae74ff9b-7afa-449d-a861-86417314f70a",
   "metadata": {},
   "outputs": [
    {
     "data": {
      "text/plain": [
       "512.0"
      ]
     },
     "execution_count": 210,
     "metadata": {},
     "output_type": "execute_result"
    }
   ],
   "source": [
    "area"
   ]
  },
  {
   "cell_type": "code",
   "execution_count": 211,
   "id": "3e7967bd-2ae5-4175-806e-bb81396f8bab",
   "metadata": {},
   "outputs": [
    {
     "data": {
      "text/plain": [
       "array([5.78268664e-04, 1.34929355e-03, 8.23069065e-03, 9.80281039e-01,\n",
       "       9.31012548e-03, 9.63781106e-05, 7.71024885e-05, 7.71024885e-05,\n",
       "       0.00000000e+00, 0.00000000e+00])"
      ]
     },
     "execution_count": 211,
     "metadata": {},
     "output_type": "execute_result"
    }
   ],
   "source": [
    "data"
   ]
  },
  {
   "cell_type": "code",
   "execution_count": 212,
   "id": "e4ee45dd-f892-4fa4-a113-8458b8e8a465",
   "metadata": {},
   "outputs": [
    {
     "data": {
      "text/plain": [
       "[512.0,\n",
       " array([5.78268664e-04, 1.34929355e-03, 8.23069065e-03, 9.80281039e-01,\n",
       "        9.31012548e-03, 9.63781106e-05, 7.71024885e-05, 7.71024885e-05,\n",
       "        0.00000000e+00, 0.00000000e+00])]"
      ]
     },
     "execution_count": 212,
     "metadata": {},
     "output_type": "execute_result"
    }
   ],
   "source": [
    "[area,data]"
   ]
  },
  {
   "cell_type": "code",
   "execution_count": 24,
   "id": "2ae3e79e-8509-4615-a3b6-90ae8076a2ec",
   "metadata": {},
   "outputs": [
    {
     "name": "stderr",
     "output_type": "stream",
     "text": [
      "C:\\Users\\Dan\\.conda\\envs\\iblenv\\lib\\site-packages\\one\\api.py:1294: UserWarning: Newer cache tables require ONE version 1.10.0 or greater\n",
      "  warnings.warn(f'Newer cache tables require ONE version {min_version} or greater')\n"
     ]
    },
    {
     "name": "stdout",
     "output_type": "stream",
     "text": [
      "12.831583976745605\n",
      "12.851388216018677\n",
      "0.06364798545837402\n",
      "20.514261960983276\n",
      "0.027907609939575195\n",
      "0.015633821487426758\n",
      "0.38724660873413086\n",
      "0.08876204490661621\n",
      "0.0\n",
      "0.037243947858473\n",
      "0.074487895716946\n",
      "0.11173184357541899\n",
      "0.148975791433892\n",
      "0.186219739292365\n",
      "0.22346368715083798\n",
      "0.260707635009311\n",
      "0.297951582867784\n",
      "0.33519553072625696\n",
      "0.37243947858473\n",
      "0.409683426443203\n",
      "0.44692737430167595\n",
      "0.48417132216014896\n",
      "0.521415270018622\n",
      "0.5586592178770949\n",
      "0.595903165735568\n",
      "0.633147113594041\n",
      "0.6703910614525139\n",
      "0.707635009310987\n",
      "0.74487895716946\n",
      "0.7821229050279329\n",
      "0.819366852886406\n",
      "0.8566108007448789\n",
      "0.8938547486033519\n",
      "0.931098696461825\n",
      "0.9683426443202979\n"
     ]
    }
   ],
   "source": [
    "from needles2.probe_model import ProbeModel\n",
    "\n",
    "res = 25\n",
    "pr = ProbeModel(res=res)\n",
    "pr.initialise()\n",
    "pr.compute_best_for_provenance(provenance='Histology track')\n",
    "coverage = pr.report_coverage(provenance='Best', dist=354)"
   ]
  },
  {
   "cell_type": "code",
   "execution_count": 25,
   "id": "df33cb51-e257-457a-bf37-472d6eca6412",
   "metadata": {},
   "outputs": [
    {
     "data": {
      "text/plain": [
       "(528, 456, 320)"
      ]
     },
     "execution_count": 25,
     "metadata": {},
     "output_type": "execute_result"
    }
   ],
   "source": [
    "coverage.shape"
   ]
  },
  {
   "cell_type": "code",
   "execution_count": 128,
   "id": "4732d687-6e1d-491f-84c6-2a1d2eb9e561",
   "metadata": {},
   "outputs": [
    {
     "name": "stdout",
     "output_type": "stream",
     "text": [
      "(528, 320, 456)\n"
     ]
    }
   ],
   "source": [
    "coverage = coverage.swapaxes(1,2)\n",
    "print(coverage.shape)"
   ]
  },
  {
   "cell_type": "code",
   "execution_count": 129,
   "id": "bc41d146-0c26-496f-91cb-3d8a5e592d60",
   "metadata": {},
   "outputs": [],
   "source": [
    "# We're going to load the data_indexes.bytes file and then use those positions to save out the coverage dataset in the same way we did the annotation dataset, and index file and a map filem\n",
    "volume_indexes = np.fromfile('./compression/volume_indexes.bytes',dtype='uint8')"
   ]
  },
  {
   "cell_type": "code",
   "execution_count": 130,
   "id": "cdb46949-71eb-4ec0-9434-b17b4e7f7a8e",
   "metadata": {},
   "outputs": [
    {
     "data": {
      "text/plain": [
       "(77045760,)"
      ]
     },
     "execution_count": 130,
     "metadata": {},
     "output_type": "execute_result"
    }
   ],
   "source": [
    "volume_indexes.shape"
   ]
  },
  {
   "cell_type": "code",
   "execution_count": 157,
   "id": "f197150b-81e6-4b27-976f-af05853c1d8d",
   "metadata": {},
   "outputs": [],
   "source": [
    "# Go through the flattened file and at each point where data_indexes==1, save whether that was a 0/1/2, we can use the map here this will help let Unity compress the file further\n",
    "coverage_flat = coverage.flatten()\n",
    "coverage_map = [0,1,2]"
   ]
  },
  {
   "cell_type": "code",
   "execution_count": 160,
   "id": "c7a0f807-a53d-468e-a388-dea9e7cc71eb",
   "metadata": {},
   "outputs": [],
   "source": [
    "coverage_indexes = coverage_flat[volume_indexes==1]"
   ]
  },
  {
   "cell_type": "code",
   "execution_count": 163,
   "id": "082b31a8-7354-4a82-b0a4-1336b6db66ac",
   "metadata": {},
   "outputs": [
    {
     "name": "stdout",
     "output_type": "stream",
     "text": [
      "17033968\n",
      "3891276\n",
      "11462141\n",
      "0\n"
     ]
    }
   ],
   "source": [
    "print(np.sum(coverage_indexes==0))\n",
    "print(np.sum(coverage_indexes==1))\n",
    "print(np.sum(coverage_indexes==2))"
   ]
  },
  {
   "cell_type": "code",
   "execution_count": 164,
   "id": "5ee7442a-c0ce-4d66-b107-11439d17d452",
   "metadata": {},
   "outputs": [],
   "source": [
    "coverage_indexes.astype('uint8').tofile('coverage_indexes.bytes')"
   ]
  },
  {
   "cell_type": "code",
   "execution_count": 165,
   "id": "06f20a08-232d-4694-ae93-0a81ea0b72de",
   "metadata": {},
   "outputs": [],
   "source": [
    "volume_indexes_load = np.fromfile('./compression/volume_indexes.bytes',dtype='uint8')\n",
    "coverage_indexes_load = np.fromfile('coverage_indexes.bytes',dtype='uint8')"
   ]
  },
  {
   "cell_type": "code",
   "execution_count": 166,
   "id": "87719485-59c4-437c-ab25-c2ff6623df08",
   "metadata": {},
   "outputs": [],
   "source": [
    "# Reconstruct the coverage volume\n",
    "ai = 0\n",
    "i = 0\n",
    "cov_load = np.zeros(data.shape)\n",
    "for ap in np.arange(data.shape[0]):\n",
    "    for dv in np.arange(data.shape[1]):\n",
    "        for lr in np.arange(data.shape[2]):\n",
    "            if volume_indexes_load[i]==1:\n",
    "                cov_load[ap,dv,lr] = coverage_indexes_load[ai]\n",
    "                ai+=1\n",
    "            else:\n",
    "                cov_load[ap,dv,lr] = np.nan\n",
    "            i+=1"
   ]
  },
  {
   "cell_type": "code",
   "execution_count": 167,
   "id": "6fc628c3-277b-4eab-bcea-d27c4d986ac1",
   "metadata": {},
   "outputs": [
    {
     "name": "stdout",
     "output_type": "stream",
     "text": [
      "False\n"
     ]
    }
   ],
   "source": [
    "print(np.all(coverage==cov_load))"
   ]
  },
  {
   "cell_type": "code",
   "execution_count": 168,
   "id": "558f3909-f8c9-4efb-879f-c343d6417f9e",
   "metadata": {},
   "outputs": [
    {
     "data": {
      "text/plain": [
       "<matplotlib.image.AxesImage at 0x17c8dbb0cd0>"
      ]
     },
     "execution_count": 168,
     "metadata": {},
     "output_type": "execute_result"
    },
    {
     "data": {
      "image/png": "[encoded data removed]",
      "text/plain": [
       "<Figure size 1440x720 with 1 Axes>"
      ]
     },
     "metadata": {
      "needs_background": "light"
     },
     "output_type": "display_data"
    }
   ],
   "source": [
    "plt.imshow(cov_load[100,:,:])"
   ]
  },
  {
   "cell_type": "code",
   "execution_count": 169,
   "id": "dc96380f-3ca7-4946-8e30-a1d4022ee791",
   "metadata": {},
   "outputs": [
    {
     "data": {
      "text/plain": [
       "<matplotlib.image.AxesImage at 0x17c8d328c10>"
      ]
     },
     "execution_count": 169,
     "metadata": {},
     "output_type": "execute_result"
    },
    {
     "data": {
      "image/png": "[encoded data removed]",
      "text/plain": [
       "<Figure size 1440x720 with 1 Axes>"
      ]
     },
     "metadata": {
      "needs_background": "light"
     },
     "output_type": "display_data"
    }
   ],
   "source": [
    "plt.imshow(coverage[100,:,:])"
   ]
  }
 ],
 "metadata": {
  "kernelspec": {
   "display_name": "Python 3 (ipykernel)",
   "language": "python",
   "name": "python3"
  },
  "language_info": {
   "codemirror_mode": {
    "name": "ipython",
    "version": 3
   },
   "file_extension": ".py",
   "mimetype": "text/x-python",
   "name": "python",
   "nbconvert_exporter": "python",
   "pygments_lexer": "ipython3",
   "version": "3.9.10"
  }
 },
 "nbformat": 4,
 "nbformat_minor": 5
}
